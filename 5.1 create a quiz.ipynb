{
 "cells": [
  {
   "cell_type": "code",
   "execution_count": null,
   "id": "adfa7422-f091-4f1e-8d1e-260b496e995f",
   "metadata": {},
   "outputs": [],
   "source": [
    "# Quiz (for loop - go through all elements)"
   ]
  },
  {
   "cell_type": "code",
   "execution_count": 9,
   "id": "52b0f358-80b7-41f2-a2cd-9716bdd8d6ad",
   "metadata": {
    "editable": true,
    "slideshow": {
     "slide_type": ""
    },
    "tags": []
   },
   "outputs": [
    {
     "name": "stdin",
     "output_type": "stream",
     "text": [
      "where is Christie's hometown?\n",
      "(a) Toronto\n",
      "(b) Montreal\n",
      "(c) Vancouver\n",
      " b\n",
      "What is Christie's favorite colour?\n",
      "(a) Blue \n",
      "(b) Red\n",
      "(c) Purple\n",
      " c\n",
      "Does Christie like curry?\n",
      "(a) Yes\n",
      "(b) No\n",
      " b\n"
     ]
    },
    {
     "name": "stdout",
     "output_type": "stream",
     "text": [
      "Thank you for finishing the quiz! You answered 2 questions correctly!\n"
     ]
    }
   ],
   "source": [
    "class quiz:\n",
    "    def __init__(self, prompt, answer):\n",
    "        self.prompt = prompt\n",
    "        self.answer = answer\n",
    "\n",
    "prompt_list = [\n",
    "    \"where is Christie's hometown?\\n(a) Toronto\\n(b) Montreal\\n(c) Vancouver\\n\",\n",
    "    \"What is Christie's favorite colour?\\n(a) Blue \\n(b) Red\\n(c) Purple\\n\",\n",
    "    \"Does Christie like curry?\\n(a) Yes\\n(b) No\\n\",\n",
    "]\n",
    "\n",
    "christie_qlist = [\n",
    "    quiz(prompt_list[0],\"a\"),\n",
    "    quiz(prompt_list[1],\"c\"),\n",
    "    quiz(prompt_list[2],\"b\"),\n",
    "]\n",
    "#refer to a variale in an element, format = element.variable. e.g. quiz.answer\n",
    "\n",
    "def christie_quiz():\n",
    "    score = 0\n",
    "    answer_input = \"\"\n",
    "    for quiz in christie_qlist:\n",
    "        answer_input = input(f\"{quiz.prompt}\").lower()   \n",
    "        if answer_input == quiz.answer:\n",
    "            score += 1\n",
    "    print(f\"Thank you for finishing the quiz! You answered {score} questions correctly!\")\n",
    "\n",
    "christie_quiz()"
   ]
  },
  {
   "cell_type": "code",
   "execution_count": null,
   "id": "06b167c9-6152-452c-86d6-bb58a0b4fcbb",
   "metadata": {
    "editable": true,
    "slideshow": {
     "slide_type": ""
    },
    "tags": []
   },
   "outputs": [],
   "source": []
  }
 ],
 "metadata": {
  "kernelspec": {
   "display_name": "Python 3 (ipykernel)",
   "language": "python",
   "name": "python3"
  },
  "language_info": {
   "codemirror_mode": {
    "name": "ipython",
    "version": 3
   },
   "file_extension": ".py",
   "mimetype": "text/x-python",
   "name": "python",
   "nbconvert_exporter": "python",
   "pygments_lexer": "ipython3",
   "version": "3.12.0"
  }
 },
 "nbformat": 4,
 "nbformat_minor": 5
}
