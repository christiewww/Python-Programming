{
 "cells": [
  {
   "cell_type": "code",
   "execution_count": null,
   "id": "fe77f3aa-56cb-47cb-b7de-195d92f40b9d",
   "metadata": {
    "editable": true,
    "slideshow": {
     "slide_type": ""
    },
    "tags": []
   },
   "outputs": [],
   "source": [
    "'''\n",
    "replace some characters of a given word with another characters and provide a new word\n",
    "\n",
    "keyword:\n",
    "checking if something in given word meet certain conditions ==> for loop\n",
    "replace ==> variable = variable + 'x'\n",
    "need to give something new ==> return\n",
    "given word = input()\n",
    "'''"
   ]
  },
  {
   "cell_type": "code",
   "execution_count": 7,
   "id": "11ac0af1-85ce-41c8-baba-fe17a4a4a547",
   "metadata": {},
   "outputs": [
    {
     "name": "stdin",
     "output_type": "stream",
     "text": [
      "Please enter a word: \n",
      " Christie\n"
     ]
    },
    {
     "data": {
      "text/plain": [
       "'Ohristie'"
      ]
     },
     "execution_count": 7,
     "metadata": {},
     "output_type": "execute_result"
    }
   ],
   "source": [
    "def translate(word):\n",
    "    word = input('Please enter a word: \\n')\n",
    "    translation = ''\n",
    "    for letter in word:\n",
    "        if letter in 'o':\n",
    "            translation = translation + 'c'\n",
    "        elif letter in 'O':\n",
    "            translation = translation + 'C'\n",
    "        elif letter in 'c':\n",
    "            translation = translation + 'o'\n",
    "        elif letter in 'C':\n",
    "            translation = translation + 'O'\n",
    "        else:\n",
    "            translation = translation + letter # make sure other letters will not be lost\n",
    "    return translation                         # this syntax is needed when to give something NEW\n",
    "translate('run')"
   ]
  },
  {
   "cell_type": "code",
   "execution_count": null,
   "id": "1882729c-208a-4476-acb8-911c6b75ddc9",
   "metadata": {},
   "outputs": [],
   "source": []
  }
 ],
 "metadata": {
  "kernelspec": {
   "display_name": "Python 3 (ipykernel)",
   "language": "python",
   "name": "python3"
  },
  "language_info": {
   "codemirror_mode": {
    "name": "ipython",
    "version": 3
   },
   "file_extension": ".py",
   "mimetype": "text/x-python",
   "name": "python",
   "nbconvert_exporter": "python",
   "pygments_lexer": "ipython3",
   "version": "3.12.0"
  }
 },
 "nbformat": 4,
 "nbformat_minor": 5
}
