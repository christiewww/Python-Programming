{
 "cells": [
  {
   "cell_type": "code",
   "execution_count": null,
   "id": "12f55e73-1fa2-44ee-bd1b-d7d27041c19d",
   "metadata": {},
   "outputs": [],
   "source": [
    "# r > s, s > p, p > r"
   ]
  },
  {
   "cell_type": "code",
   "execution_count": 9,
   "id": "cab29b92-f5a1-497c-8633-1506197732fd",
   "metadata": {},
   "outputs": [
    {
     "name": "stdin",
     "output_type": "stream",
     "text": [
      "r for rock, s for scissors, p for paper. What is your choice?\n",
      " p\n"
     ]
    },
    {
     "data": {
      "text/plain": [
       "'You win!'"
      ]
     },
     "execution_count": 9,
     "metadata": {},
     "output_type": "execute_result"
    }
   ],
   "source": [
    "import random\n",
    "\n",
    "def play():\n",
    "    player = input('r for rock, s for scissors, p for paper. What is your choice?\\n').lower()\n",
    "    if player not in (['r', 's', 'p']):\n",
    "        return 'Invalid input'\n",
    "    computer = random.choice(['r', 's', 'p'])\n",
    "    if player == computer:\n",
    "        return 'You tie. Play again.'\n",
    "    elif is_win(player, computer):\n",
    "        return 'You win!'\n",
    "    else:\n",
    "        return 'You lose...'\n",
    "\n",
    "# when the conditions of one logic (e.g. winning condition here) are too complicated, make another function\n",
    "\n",
    "def is_win(A, B):\n",
    "    if (A == 'r'and B == 's') or (A == 's'and B == 'p') or (A == 'p'and B == 'r'):\n",
    "        return True\n",
    "\n",
    "play()"
   ]
  },
  {
   "cell_type": "code",
   "execution_count": null,
   "id": "502d038e-7ee3-4fc2-88ea-a6ed6bf37c32",
   "metadata": {},
   "outputs": [],
   "source": []
  }
 ],
 "metadata": {
  "kernelspec": {
   "display_name": "Python 3 (ipykernel)",
   "language": "python",
   "name": "python3"
  },
  "language_info": {
   "codemirror_mode": {
    "name": "ipython",
    "version": 3
   },
   "file_extension": ".py",
   "mimetype": "text/x-python",
   "name": "python",
   "nbconvert_exporter": "python",
   "pygments_lexer": "ipython3",
   "version": "3.12.0"
  }
 },
 "nbformat": 4,
 "nbformat_minor": 5
}
